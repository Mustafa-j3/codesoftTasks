{
 "cells": [
  {
   "cell_type": "code",
   "execution_count": 6,
   "id": "575fccbb",
   "metadata": {},
   "outputs": [
    {
     "name": "stdout",
     "output_type": "stream",
     "text": [
      "You: hi\n",
      "ChatBot: Hello! How can I assist you today?\n",
      "You: how are you\n",
      "ChatBot: Thanks for asking! How can I help you?\n",
      "You: exit\n",
      "ChatBot: Goodbye!\n"
     ]
    }
   ],
   "source": [
    "\n",
    "def chatbot(user_inp):\n",
    "    user_inp = user_inp.lower() \n",
    "\n",
    "    if \"hello\" in user_inp or \"hi\" in user_inp:\n",
    "        return \"Hello! How can I assist you today?\"\n",
    "\n",
    "    elif \"how are you\" in user_inp:\n",
    "        return \"Thanks for asking! How can I help you?\"\n",
    "\n",
    "    elif \"what is your name\" in user_inp:\n",
    "        return \"I'm a chatbot, so I don't have a personal name, but you can call me ChatBot.\"\n",
    "\n",
    "    elif \"bye\" in user_inp or \"goodbye\" in user_inp:\n",
    "        return \"Goodbye! Feel free to return if you have more questions in the future.\"\n",
    "\n",
    "    else:\n",
    "        return \"I'm sorry, I didn't understand that. Can you please rephrase your question?\"\n",
    "\n",
    "# Main loop for chatting\n",
    "while True:\n",
    "    user_inp = input(\"You: \")\n",
    "    if user_inp.lower() == \"exit\":\n",
    "        print(\"ChatBot: Goodbye!\")\n",
    "        break\n",
    "    response = chatbot(user_inp)\n",
    "    print(\"ChatBot:\", response)\n"
   ]
  },
  {
   "cell_type": "code",
   "execution_count": null,
   "id": "9eae69d6",
   "metadata": {},
   "outputs": [],
   "source": []
  }
 ],
 "metadata": {
  "kernelspec": {
   "display_name": "Python 3 (ipykernel)",
   "language": "python",
   "name": "python3"
  },
  "language_info": {
   "codemirror_mode": {
    "name": "ipython",
    "version": 3
   },
   "file_extension": ".py",
   "mimetype": "text/x-python",
   "name": "python",
   "nbconvert_exporter": "python",
   "pygments_lexer": "ipython3",
   "version": "3.9.12"
  }
 },
 "nbformat": 4,
 "nbformat_minor": 5
}
